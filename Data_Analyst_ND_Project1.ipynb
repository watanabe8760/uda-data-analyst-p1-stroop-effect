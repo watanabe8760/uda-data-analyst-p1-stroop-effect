{
 "cells": [
  {
   "cell_type": "markdown",
   "metadata": {},
   "source": [
    "#Is Stroop effect statistically significant?\n",
    "\n",
    "The purpose of this project is to check if [Stroop effect](https://en.wikipedia.org/wiki/Stroop_effect) is statistically significant based on a given data set.  \n",
    "Participants are presented with a list of words, with each word displayed in a color of ink. The participant’s task is to say out loud the color of the ink in which the word is printed. \n",
    "\n",
    "####Data set\n",
    "[Link to the data set used](https://www.google.com/url?q=https://drive.google.com/file/d/0B9Yf01UaIbUgQXpYb2NhZ29yX1U/view?usp%3Dsharing&sa=D&usg=AFQjCNGAjbK9VYD5GsQ8c_iRT9zH9QdOVg)  \n",
    "Each of twenty-four participants performed the task in both congruent and inconguent conditions and the reaction time was measured.  \n",
    "Congruent means that the words being displayed are color words whose names match the colors in which they are printed: <font color='red'>RED</font>, <font color='blue'>BLUE</font>  \n",
    "Incongruent means that  the words displayed are color words whose names do not match the colors in which they are printed: <font color='green'>PURPLE</font>, <font color='purple'>ORANGE</font>"
   ]
  },
  {
   "cell_type": "markdown",
   "metadata": {},
   "source": [
    "###1. Variables\n",
    "\n",
    "*Independent variable :*\n",
    " - Condition of task, Congruent or Incongruent  \n",
    " \n",
    "*Dependent variable :*\n",
    " - Reaction Time of task"
   ]
  },
  {
   "cell_type": "markdown",
   "metadata": {},
   "source": [
    "###2. Hypothesis\n",
    "Let's denote mean of reaction time of congruent condition as $Mc$ and incongruent condition as $Mi$.  \n",
    "Null hypothesis $H0$ and alternative hypothesis $H1$ are as follows.  \n",
    "Since the expectation to Stroop effect is that Incongruent condition takes longer time, a directional alternative hypothesis is selected.\n",
    "\n",
    "$H0 : Mc = Mi$  \n",
    "$H1 : Mc < Mi$\n",
    "\n",
    "To investigate those hypothes paired t-test will be used. The reason to choose paired t-test is based on the facts and assumptions below.  \n",
    "\n",
    "*Fact :*\n",
    " - The sample size 24 is less than 30 which is the boarder line that makes the distribution nearly equal to normal distribution. If it's more than 30, z-score can be used instead of t-test.\n",
    " - Each candidate takes a test twice in two different conditions. As a result, both samples have the same data size.\n",
    "\n",
    "*Assumption :*\n",
    " - Each test result is independent each other. (One test result does not affect other results.)\n",
    " - If the similar data is collected more, the distribution would be close to normal distribution. In other words, those samples are taken from populations which are normally distributed."
   ]
  },
  {
   "cell_type": "markdown",
   "metadata": {},
   "source": [
    "###3. Descriptive statistics"
   ]
  },
  {
   "cell_type": "code",
   "execution_count": 54,
   "metadata": {
    "collapsed": false
   },
   "outputs": [
    {
     "name": "stdout",
     "output_type": "stream",
     "text": [
      "### Descriptive statistics ###\n",
      "       Congruent  Incongruent  difference\n",
      "count  24.000000    24.000000   24.000000\n",
      "mean   14.051125    22.015917    7.964792\n",
      "std     3.559358     4.797057    4.864827\n",
      "min     8.630000    15.687000    1.950000\n",
      "25%    11.895250    18.716750    3.645500\n",
      "50%    14.356500    21.017500    7.666500\n",
      "75%    16.200750    24.051500   10.258500\n",
      "max    22.328000    35.255000   21.919000\n",
      "\n",
      "### Standard error of the mean ###\n",
      "Congruent      0.726551\n",
      "Incongruent    0.979195\n",
      "difference     0.993029\n",
      "dtype: float64\n"
     ]
    }
   ],
   "source": [
    "import pandas as pd\n",
    "import numpy as np\n",
    "\n",
    "stroop = pd.read_csv('stroopdata.csv')\n",
    "# Difference is created by Incongruent - Congruent so that no negative value appears\n",
    "stroop['difference'] = stroop.Incongruent - stroop.Congruent\n",
    "\n",
    "print '### Descriptive statistics ###'\n",
    "print stroop.describe()\n",
    "print ''\n",
    "print '### Standard error of the mean ###'\n",
    "print stroop.std() / np.sqrt(stroop.count())"
   ]
  },
  {
   "cell_type": "markdown",
   "metadata": {},
   "source": [
    "As shown above, the major statistical attributes of this data set are as follows.  \n",
    "$d$ denotes the difference(Incongruent - Congruent).\n",
    "\n",
    "**Mean**  \n",
    "$Mc=14.05$  \n",
    "$Mi=22.01$  \n",
    "$Md=7.96$  \n",
    "\n",
    "**Standard Deviation** (Normalized by N-1 by default.)  \n",
    "$SDc=3.56$  \n",
    "$SDi=4.80$  \n",
    "$SDd=4.86$\n",
    "\n",
    "**Standard Error of the mean**  \n",
    "$SEc=0.73$  \n",
    "$SEi=0.98$  \n",
    "$SEd=0.99$"
   ]
  },
  {
   "cell_type": "markdown",
   "metadata": {},
   "source": [
    "###4. Exploratory analysis"
   ]
  },
  {
   "cell_type": "code",
   "execution_count": 55,
   "metadata": {
    "collapsed": false
   },
   "outputs": [
    {
     "data": {
      "image/png": "[encoded data removed]",
      "text/plain": [
       "<matplotlib.figure.Figure at 0x14e42630>"
      ]
     },
     "metadata": {},
     "output_type": "display_data"
    }
   ],
   "source": [
    "%matplotlib inline \n",
    "_ = stroop.hist(sharex=True, sharey=True, figsize=(15, 3), layout=(1, 3))"
   ]
  },
  {
   "cell_type": "markdown",
   "metadata": {},
   "source": [
    "It's easy to observe that Incongruent condition takes more time since the entire sample distribution shifts to right compared to Congruent condition. The most of differences are within 10+ seconds, but a couple of outliers are observed."
   ]
  },
  {
   "cell_type": "markdown",
   "metadata": {},
   "source": [
    "###5. T-test"
   ]
  },
  {
   "cell_type": "code",
   "execution_count": 56,
   "metadata": {
    "collapsed": false
   },
   "outputs": [
    {
     "name": "stdout",
     "output_type": "stream",
     "text": [
      "T-statistics manually computed is 8.02070694411\n",
      "T-statistics computed by scipy.stats is 8.02070694411\n",
      "P-value based on the t-statistics is 4.10300058571e-08\n"
     ]
    }
   ],
   "source": [
    "from scipy import stats\n",
    "\n",
    "# Paired t-test (manual)\n",
    "SE = stroop.difference.std() / np.sqrt(stroop.difference.count())\n",
    "t1 = stroop.difference.mean() / SE\n",
    "\n",
    "print \"T-statistics manually computed is {}\".format(t1)\n",
    "\n",
    "# Paired t-test (scipy)\n",
    "t2, p2 = stats.ttest_rel(stroop.Incongruent, stroop.Congruent)\n",
    "\n",
    "print \"T-statistics computed by scipy.stats is {}\".format(t2)\n",
    "print \"P-value based on the t-statistics is {}\".format(p2)"
   ]
  },
  {
   "cell_type": "markdown",
   "metadata": {},
   "source": [
    "To start paired t-test, let's set the significance level as 0.01 which is reletively conservative.  \n",
    "So **the critical value of t-statistics is 2.50** according to [t-table](https://s3.amazonaws.com/udacity-hosted-downloads/t-table.jpg). (Look up a cell where p=0.01 and df=23)  \n",
    "\n",
    "The null hypothesis $Mc = Mi$ can be described as $Mi - Mc = 0$ which is equivalent to $Md = 0$.  \n",
    "As computed in the previous section, the mean of *difference* is 7.96 and standard error of the mean of *difference* is 0.99.\n",
    "\n",
    "$Md=7.96$  \n",
    "$SEd=0.99$  \n",
    "\n",
    "Plug in those numbers to the formula : *t-statistics = Mean / Standard Error*  \n",
    "t-statistics = 7.96 / 0.99 = **8.02**  \n",
    "The number matches the one in python code above. (Not round-off numbers are used for computation.)  \n",
    "\n",
    "Since the t-statistics is much bigger than the critical value 2.50, **the null hypothesis is rejected.**  \n",
    "(According to scipy library, the p-value is actually 4.10-e08 and this is much less than the significance level set at the beginning.)   \n",
    "\n",
    "As a result, we can say that **the delay of reaction time in Incongruent condition is statistically significant** on a given data set. In other words, Stroop effect is statistically significant."
   ]
  },
  {
   "cell_type": "markdown",
   "metadata": {},
   "source": [
    "###6. Impression\n",
    "The delay of reaction time in Incongruent condition seems to be a certain type of cognitive bias which human being cannot avoid as we learn things. Wikipedia says that this is due to [attentional bias](https://en.wikipedia.org/wiki/Attentional_bias). [Dot-probe paradigm](https://en.wikipedia.org/wiki/Dot-probe_paradigm) and [dichotic listening](https://en.wikipedia.org/wiki/Dichotic_listening) are considered as similar tasks as written in the Wikipedia page.\n"
   ]
  }
 ],
 "metadata": {
  "kernelspec": {
   "display_name": "Python 2",
   "language": "python",
   "name": "python2"
  },
  "language_info": {
   "codemirror_mode": {
    "name": "ipython",
    "version": 2
   },
   "file_extension": ".py",
   "mimetype": "text/x-python",
   "name": "python",
   "nbconvert_exporter": "python",
   "pygments_lexer": "ipython2",
   "version": "2.7.10"
  }
 },
 "nbformat": 4,
 "nbformat_minor": 0
}
